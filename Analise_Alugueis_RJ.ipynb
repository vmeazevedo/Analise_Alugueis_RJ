{
 "cells": [
  {
   "cell_type": "markdown",
   "metadata": {},
   "source": [
    "##ANALISE DE ALGUÉIS - RJ\n",
    "\n",
    "#Perguntas para a análise:\n",
    "- Qual o bairro mais caro?\n",
    "- Qual o bairro mais barato?\n",
    "- Qual a media do aluguel no RJ?\n",
    "- Qual o condomínio mais caro?\n",
    "- Imoveis com areas menores que 40m² tem mais de 1 quarto?\n",
    "- Apartamentos com suites são mais caros que apartamentos sem suite?"
   ]
  },
  {
   "cell_type": "code",
   "execution_count": null,
   "metadata": {},
   "outputs": [],
   "source": [
    "# Importando as bibliotecas\n",
    "import pandas as pd\n",
    "import seaborn as sns\n",
    "import matplotlib.pyplot as plt"
   ]
  },
  {
   "cell_type": "code",
   "execution_count": 335,
   "metadata": {},
   "outputs": [],
   "source": [
    "# Importando os dados\n",
    "df = pd.read_csv('aluguel.csv',sep=';')"
   ]
  },
  {
   "cell_type": "code",
   "execution_count": 336,
   "metadata": {},
   "outputs": [
    {
     "data": {
      "text/html": [
       "<div>\n",
       "<style scoped>\n",
       "    .dataframe tbody tr th:only-of-type {\n",
       "        vertical-align: middle;\n",
       "    }\n",
       "\n",
       "    .dataframe tbody tr th {\n",
       "        vertical-align: top;\n",
       "    }\n",
       "\n",
       "    .dataframe thead th {\n",
       "        text-align: right;\n",
       "    }\n",
       "</style>\n",
       "<table border=\"1\" class=\"dataframe\">\n",
       "  <thead>\n",
       "    <tr style=\"text-align: right;\">\n",
       "      <th></th>\n",
       "      <th>Tipo</th>\n",
       "      <th>Bairro</th>\n",
       "      <th>Quartos</th>\n",
       "      <th>Vagas</th>\n",
       "      <th>Suites</th>\n",
       "      <th>Area</th>\n",
       "      <th>Valor</th>\n",
       "      <th>Condominio</th>\n",
       "      <th>IPTU</th>\n",
       "    </tr>\n",
       "  </thead>\n",
       "  <tbody>\n",
       "    <tr>\n",
       "      <th>0</th>\n",
       "      <td>Quitinete</td>\n",
       "      <td>Copacabana</td>\n",
       "      <td>1</td>\n",
       "      <td>0</td>\n",
       "      <td>0</td>\n",
       "      <td>40</td>\n",
       "      <td>1700.0</td>\n",
       "      <td>500.0</td>\n",
       "      <td>60.0</td>\n",
       "    </tr>\n",
       "    <tr>\n",
       "      <th>1</th>\n",
       "      <td>Casa</td>\n",
       "      <td>Jardim Botânico</td>\n",
       "      <td>2</td>\n",
       "      <td>0</td>\n",
       "      <td>1</td>\n",
       "      <td>100</td>\n",
       "      <td>7000.0</td>\n",
       "      <td>NaN</td>\n",
       "      <td>NaN</td>\n",
       "    </tr>\n",
       "    <tr>\n",
       "      <th>2</th>\n",
       "      <td>Conjunto Comercial/Sala</td>\n",
       "      <td>Barra da Tijuca</td>\n",
       "      <td>0</td>\n",
       "      <td>4</td>\n",
       "      <td>0</td>\n",
       "      <td>150</td>\n",
       "      <td>5200.0</td>\n",
       "      <td>4020.0</td>\n",
       "      <td>1111.0</td>\n",
       "    </tr>\n",
       "    <tr>\n",
       "      <th>3</th>\n",
       "      <td>Apartamento</td>\n",
       "      <td>Centro</td>\n",
       "      <td>1</td>\n",
       "      <td>0</td>\n",
       "      <td>0</td>\n",
       "      <td>15</td>\n",
       "      <td>800.0</td>\n",
       "      <td>390.0</td>\n",
       "      <td>20.0</td>\n",
       "    </tr>\n",
       "    <tr>\n",
       "      <th>4</th>\n",
       "      <td>Apartamento</td>\n",
       "      <td>Higienópolis</td>\n",
       "      <td>1</td>\n",
       "      <td>0</td>\n",
       "      <td>0</td>\n",
       "      <td>48</td>\n",
       "      <td>800.0</td>\n",
       "      <td>230.0</td>\n",
       "      <td>NaN</td>\n",
       "    </tr>\n",
       "  </tbody>\n",
       "</table>\n",
       "</div>"
      ],
      "text/plain": [
       "                      Tipo           Bairro  Quartos  Vagas  Suites  Area  \\\n",
       "0                Quitinete       Copacabana        1      0       0    40   \n",
       "1                     Casa  Jardim Botânico        2      0       1   100   \n",
       "2  Conjunto Comercial/Sala  Barra da Tijuca        0      4       0   150   \n",
       "3              Apartamento           Centro        1      0       0    15   \n",
       "4              Apartamento     Higienópolis        1      0       0    48   \n",
       "\n",
       "    Valor  Condominio    IPTU  \n",
       "0  1700.0       500.0    60.0  \n",
       "1  7000.0         NaN     NaN  \n",
       "2  5200.0      4020.0  1111.0  \n",
       "3   800.0       390.0    20.0  \n",
       "4   800.0       230.0     NaN  "
      ]
     },
     "execution_count": 336,
     "metadata": {},
     "output_type": "execute_result"
    }
   ],
   "source": [
    "# Apresentando os dados\n",
    "df.head()"
   ]
  },
  {
   "cell_type": "code",
   "execution_count": 337,
   "metadata": {},
   "outputs": [
    {
     "name": "stdout",
     "output_type": "stream",
     "text": [
      "<class 'pandas.core.frame.DataFrame'>\n",
      "RangeIndex: 32960 entries, 0 to 32959\n",
      "Data columns (total 9 columns):\n",
      " #   Column      Non-Null Count  Dtype  \n",
      "---  ------      --------------  -----  \n",
      " 0   Tipo        32960 non-null  object \n",
      " 1   Bairro      32960 non-null  object \n",
      " 2   Quartos     32960 non-null  int64  \n",
      " 3   Vagas       32960 non-null  int64  \n",
      " 4   Suites      32960 non-null  int64  \n",
      " 5   Area        32960 non-null  int64  \n",
      " 6   Valor       32943 non-null  float64\n",
      " 7   Condominio  28867 non-null  float64\n",
      " 8   IPTU        22723 non-null  float64\n",
      "dtypes: float64(3), int64(4), object(2)\n",
      "memory usage: 2.3+ MB\n"
     ]
    },
    {
     "data": {
      "text/html": [
       "<div>\n",
       "<style scoped>\n",
       "    .dataframe tbody tr th:only-of-type {\n",
       "        vertical-align: middle;\n",
       "    }\n",
       "\n",
       "    .dataframe tbody tr th {\n",
       "        vertical-align: top;\n",
       "    }\n",
       "\n",
       "    .dataframe thead th {\n",
       "        text-align: right;\n",
       "    }\n",
       "</style>\n",
       "<table border=\"1\" class=\"dataframe\">\n",
       "  <thead>\n",
       "    <tr style=\"text-align: right;\">\n",
       "      <th></th>\n",
       "      <th>Quartos</th>\n",
       "      <th>Vagas</th>\n",
       "      <th>Suites</th>\n",
       "      <th>Area</th>\n",
       "      <th>Valor</th>\n",
       "      <th>Condominio</th>\n",
       "      <th>IPTU</th>\n",
       "    </tr>\n",
       "  </thead>\n",
       "  <tbody>\n",
       "    <tr>\n",
       "      <th>count</th>\n",
       "      <td>32960.000000</td>\n",
       "      <td>32960.000000</td>\n",
       "      <td>32960.000000</td>\n",
       "      <td>32960.000000</td>\n",
       "      <td>3.294300e+04</td>\n",
       "      <td>2.886700e+04</td>\n",
       "      <td>2.272300e+04</td>\n",
       "    </tr>\n",
       "    <tr>\n",
       "      <th>mean</th>\n",
       "      <td>1.771390</td>\n",
       "      <td>1.749059</td>\n",
       "      <td>0.665777</td>\n",
       "      <td>231.901547</td>\n",
       "      <td>1.295266e+04</td>\n",
       "      <td>2.388062e+03</td>\n",
       "      <td>2.364410e+03</td>\n",
       "    </tr>\n",
       "    <tr>\n",
       "      <th>std</th>\n",
       "      <td>1.717869</td>\n",
       "      <td>20.380402</td>\n",
       "      <td>1.176525</td>\n",
       "      <td>1135.254152</td>\n",
       "      <td>6.675220e+05</td>\n",
       "      <td>3.918496e+04</td>\n",
       "      <td>1.795641e+05</td>\n",
       "    </tr>\n",
       "    <tr>\n",
       "      <th>min</th>\n",
       "      <td>0.000000</td>\n",
       "      <td>0.000000</td>\n",
       "      <td>0.000000</td>\n",
       "      <td>0.000000</td>\n",
       "      <td>7.500000e+01</td>\n",
       "      <td>1.000000e+00</td>\n",
       "      <td>1.000000e+00</td>\n",
       "    </tr>\n",
       "    <tr>\n",
       "      <th>25%</th>\n",
       "      <td>0.000000</td>\n",
       "      <td>0.000000</td>\n",
       "      <td>0.000000</td>\n",
       "      <td>55.000000</td>\n",
       "      <td>1.500000e+03</td>\n",
       "      <td>5.900000e+02</td>\n",
       "      <td>1.100000e+02</td>\n",
       "    </tr>\n",
       "    <tr>\n",
       "      <th>50%</th>\n",
       "      <td>2.000000</td>\n",
       "      <td>1.000000</td>\n",
       "      <td>0.000000</td>\n",
       "      <td>87.000000</td>\n",
       "      <td>2.800000e+03</td>\n",
       "      <td>9.900000e+02</td>\n",
       "      <td>2.500000e+02</td>\n",
       "    </tr>\n",
       "    <tr>\n",
       "      <th>75%</th>\n",
       "      <td>3.000000</td>\n",
       "      <td>2.000000</td>\n",
       "      <td>1.000000</td>\n",
       "      <td>170.000000</td>\n",
       "      <td>6.500000e+03</td>\n",
       "      <td>1.800000e+03</td>\n",
       "      <td>6.970000e+02</td>\n",
       "    </tr>\n",
       "    <tr>\n",
       "      <th>max</th>\n",
       "      <td>100.000000</td>\n",
       "      <td>1966.000000</td>\n",
       "      <td>70.000000</td>\n",
       "      <td>90000.000000</td>\n",
       "      <td>1.200000e+08</td>\n",
       "      <td>6.552570e+06</td>\n",
       "      <td>2.705307e+07</td>\n",
       "    </tr>\n",
       "  </tbody>\n",
       "</table>\n",
       "</div>"
      ],
      "text/plain": [
       "            Quartos         Vagas        Suites          Area         Valor  \\\n",
       "count  32960.000000  32960.000000  32960.000000  32960.000000  3.294300e+04   \n",
       "mean       1.771390      1.749059      0.665777    231.901547  1.295266e+04   \n",
       "std        1.717869     20.380402      1.176525   1135.254152  6.675220e+05   \n",
       "min        0.000000      0.000000      0.000000      0.000000  7.500000e+01   \n",
       "25%        0.000000      0.000000      0.000000     55.000000  1.500000e+03   \n",
       "50%        2.000000      1.000000      0.000000     87.000000  2.800000e+03   \n",
       "75%        3.000000      2.000000      1.000000    170.000000  6.500000e+03   \n",
       "max      100.000000   1966.000000     70.000000  90000.000000  1.200000e+08   \n",
       "\n",
       "         Condominio          IPTU  \n",
       "count  2.886700e+04  2.272300e+04  \n",
       "mean   2.388062e+03  2.364410e+03  \n",
       "std    3.918496e+04  1.795641e+05  \n",
       "min    1.000000e+00  1.000000e+00  \n",
       "25%    5.900000e+02  1.100000e+02  \n",
       "50%    9.900000e+02  2.500000e+02  \n",
       "75%    1.800000e+03  6.970000e+02  \n",
       "max    6.552570e+06  2.705307e+07  "
      ]
     },
     "execution_count": 337,
     "metadata": {},
     "output_type": "execute_result"
    }
   ],
   "source": [
    "# Apresentando informações do dataset\n",
    "df.info()\n",
    "df.describe()"
   ]
  },
  {
   "cell_type": "code",
   "execution_count": 338,
   "metadata": {},
   "outputs": [
    {
     "data": {
      "text/plain": [
       "IPTU          10237\n",
       "Condominio     4093\n",
       "Valor            17\n",
       "Area              0\n",
       "Suites            0\n",
       "Vagas             0\n",
       "Quartos           0\n",
       "Bairro            0\n",
       "Tipo              0\n",
       "dtype: int64"
      ]
     },
     "execution_count": 338,
     "metadata": {},
     "output_type": "execute_result"
    }
   ],
   "source": [
    "# Verificando dados faltosos\n",
    "df.isnull().sum().sort_values(ascending=False)"
   ]
  },
  {
   "cell_type": "code",
   "execution_count": 339,
   "metadata": {},
   "outputs": [],
   "source": [
    "# Removendo duplicatas se houver\n",
    "df.drop_duplicates(keep=False, inplace=True)"
   ]
  },
  {
   "cell_type": "code",
   "execution_count": 340,
   "metadata": {},
   "outputs": [
    {
     "data": {
      "text/plain": [
       "IPTU          9604\n",
       "Condominio    3830\n",
       "Valor           17\n",
       "Area             0\n",
       "Suites           0\n",
       "Vagas            0\n",
       "Quartos          0\n",
       "Bairro           0\n",
       "Tipo             0\n",
       "dtype: int64"
      ]
     },
     "execution_count": 340,
     "metadata": {},
     "output_type": "execute_result"
    }
   ],
   "source": [
    "# Verificando novamente os dados faltosos\n",
    "df.isnull().sum().sort_values(ascending=False)"
   ]
  },
  {
   "cell_type": "code",
   "execution_count": 341,
   "metadata": {},
   "outputs": [],
   "source": [
    "# Removendo os valores NaN\n",
    "df.dropna(inplace=True)"
   ]
  },
  {
   "cell_type": "code",
   "execution_count": 342,
   "metadata": {},
   "outputs": [
    {
     "data": {
      "text/html": [
       "<div>\n",
       "<style scoped>\n",
       "    .dataframe tbody tr th:only-of-type {\n",
       "        vertical-align: middle;\n",
       "    }\n",
       "\n",
       "    .dataframe tbody tr th {\n",
       "        vertical-align: top;\n",
       "    }\n",
       "\n",
       "    .dataframe thead th {\n",
       "        text-align: right;\n",
       "    }\n",
       "</style>\n",
       "<table border=\"1\" class=\"dataframe\">\n",
       "  <thead>\n",
       "    <tr style=\"text-align: right;\">\n",
       "      <th></th>\n",
       "      <th>Tipo</th>\n",
       "      <th>Bairro</th>\n",
       "      <th>Quartos</th>\n",
       "      <th>Vagas</th>\n",
       "      <th>Suites</th>\n",
       "      <th>Area</th>\n",
       "      <th>Valor</th>\n",
       "      <th>Condominio</th>\n",
       "      <th>IPTU</th>\n",
       "    </tr>\n",
       "  </thead>\n",
       "  <tbody>\n",
       "    <tr>\n",
       "      <th>0</th>\n",
       "      <td>Quitinete</td>\n",
       "      <td>Copacabana</td>\n",
       "      <td>1</td>\n",
       "      <td>0</td>\n",
       "      <td>0</td>\n",
       "      <td>40</td>\n",
       "      <td>1700.0</td>\n",
       "      <td>500.0</td>\n",
       "      <td>60.0</td>\n",
       "    </tr>\n",
       "    <tr>\n",
       "      <th>2</th>\n",
       "      <td>Conjunto Comercial/Sala</td>\n",
       "      <td>Barra da Tijuca</td>\n",
       "      <td>0</td>\n",
       "      <td>4</td>\n",
       "      <td>0</td>\n",
       "      <td>150</td>\n",
       "      <td>5200.0</td>\n",
       "      <td>4020.0</td>\n",
       "      <td>1111.0</td>\n",
       "    </tr>\n",
       "    <tr>\n",
       "      <th>3</th>\n",
       "      <td>Apartamento</td>\n",
       "      <td>Centro</td>\n",
       "      <td>1</td>\n",
       "      <td>0</td>\n",
       "      <td>0</td>\n",
       "      <td>15</td>\n",
       "      <td>800.0</td>\n",
       "      <td>390.0</td>\n",
       "      <td>20.0</td>\n",
       "    </tr>\n",
       "    <tr>\n",
       "      <th>6</th>\n",
       "      <td>Apartamento</td>\n",
       "      <td>Cachambi</td>\n",
       "      <td>2</td>\n",
       "      <td>0</td>\n",
       "      <td>0</td>\n",
       "      <td>50</td>\n",
       "      <td>1300.0</td>\n",
       "      <td>301.0</td>\n",
       "      <td>17.0</td>\n",
       "    </tr>\n",
       "    <tr>\n",
       "      <th>9</th>\n",
       "      <td>Conjunto Comercial/Sala</td>\n",
       "      <td>Centro</td>\n",
       "      <td>0</td>\n",
       "      <td>3</td>\n",
       "      <td>0</td>\n",
       "      <td>695</td>\n",
       "      <td>35000.0</td>\n",
       "      <td>19193.0</td>\n",
       "      <td>3030.0</td>\n",
       "    </tr>\n",
       "  </tbody>\n",
       "</table>\n",
       "</div>"
      ],
      "text/plain": [
       "                      Tipo           Bairro  Quartos  Vagas  Suites  Area  \\\n",
       "0                Quitinete       Copacabana        1      0       0    40   \n",
       "2  Conjunto Comercial/Sala  Barra da Tijuca        0      4       0   150   \n",
       "3              Apartamento           Centro        1      0       0    15   \n",
       "6              Apartamento         Cachambi        2      0       0    50   \n",
       "9  Conjunto Comercial/Sala           Centro        0      3       0   695   \n",
       "\n",
       "     Valor  Condominio    IPTU  \n",
       "0   1700.0       500.0    60.0  \n",
       "2   5200.0      4020.0  1111.0  \n",
       "3    800.0       390.0    20.0  \n",
       "6   1300.0       301.0    17.0  \n",
       "9  35000.0     19193.0  3030.0  "
      ]
     },
     "execution_count": 342,
     "metadata": {},
     "output_type": "execute_result"
    }
   ],
   "source": [
    "# Apresentando uma amostra do dataset novamente\n",
    "df.head()"
   ]
  },
  {
   "cell_type": "code",
   "execution_count": 343,
   "metadata": {},
   "outputs": [
    {
     "data": {
      "text/plain": [
       "array(['Quitinete', 'Conjunto Comercial/Sala', 'Apartamento', 'Casa',\n",
       "       'Loja/Salão', 'Flat', 'Casa de Condomínio', 'Casa Comercial',\n",
       "       'Casa de Vila', 'Loft', 'Loja Shopping/ Ct Comercial',\n",
       "       'Galpão/Depósito/Armazém', 'Prédio Inteiro', 'Box/Garagem',\n",
       "       'Studio', 'Terreno Padrão'], dtype=object)"
      ]
     },
     "execution_count": 343,
     "metadata": {},
     "output_type": "execute_result"
    }
   ],
   "source": [
    "# Apresentando os tipos de imóveis\n",
    "df.Tipo.unique()"
   ]
  },
  {
   "cell_type": "code",
   "execution_count": 344,
   "metadata": {},
   "outputs": [
    {
     "data": {
      "text/plain": [
       "Apartamento                    13044\n",
       "Conjunto Comercial/Sala         4157\n",
       "Casa de Condomínio               646\n",
       "Quitinete                        526\n",
       "Loja/Salão                       525\n",
       "Flat                             367\n",
       "Loja Shopping/ Ct Comercial      185\n",
       "Casa                             107\n",
       "Casa de Vila                      60\n",
       "Galpão/Depósito/Armazém           59\n",
       "Loft                              36\n",
       "Casa Comercial                    25\n",
       "Prédio Inteiro                    20\n",
       "Box/Garagem                        5\n",
       "Studio                             2\n",
       "Terreno Padrão                     1\n",
       "Name: Tipo, dtype: int64"
      ]
     },
     "execution_count": 344,
     "metadata": {},
     "output_type": "execute_result"
    }
   ],
   "source": [
    "# Apresentando as quantidades por imóveis\n",
    "df.Tipo.value_counts()"
   ]
  },
  {
   "cell_type": "code",
   "execution_count": 345,
   "metadata": {},
   "outputs": [],
   "source": [
    "# Criando uma lista com o Tipo de imovel que vou trabalhar\n",
    "tipo_imovel = ['Apartamento']"
   ]
  },
  {
   "cell_type": "code",
   "execution_count": 346,
   "metadata": {},
   "outputs": [
    {
     "data": {
      "text/html": [
       "<div>\n",
       "<style scoped>\n",
       "    .dataframe tbody tr th:only-of-type {\n",
       "        vertical-align: middle;\n",
       "    }\n",
       "\n",
       "    .dataframe tbody tr th {\n",
       "        vertical-align: top;\n",
       "    }\n",
       "\n",
       "    .dataframe thead th {\n",
       "        text-align: right;\n",
       "    }\n",
       "</style>\n",
       "<table border=\"1\" class=\"dataframe\">\n",
       "  <thead>\n",
       "    <tr style=\"text-align: right;\">\n",
       "      <th></th>\n",
       "      <th>Tipo</th>\n",
       "      <th>Bairro</th>\n",
       "      <th>Quartos</th>\n",
       "      <th>Vagas</th>\n",
       "      <th>Suites</th>\n",
       "      <th>Area</th>\n",
       "      <th>Valor</th>\n",
       "      <th>Condominio</th>\n",
       "      <th>IPTU</th>\n",
       "    </tr>\n",
       "  </thead>\n",
       "  <tbody>\n",
       "    <tr>\n",
       "      <th>3</th>\n",
       "      <td>Apartamento</td>\n",
       "      <td>Centro</td>\n",
       "      <td>1</td>\n",
       "      <td>0</td>\n",
       "      <td>0</td>\n",
       "      <td>15</td>\n",
       "      <td>800.0</td>\n",
       "      <td>390.0</td>\n",
       "      <td>20.0</td>\n",
       "    </tr>\n",
       "    <tr>\n",
       "      <th>6</th>\n",
       "      <td>Apartamento</td>\n",
       "      <td>Cachambi</td>\n",
       "      <td>2</td>\n",
       "      <td>0</td>\n",
       "      <td>0</td>\n",
       "      <td>50</td>\n",
       "      <td>1300.0</td>\n",
       "      <td>301.0</td>\n",
       "      <td>17.0</td>\n",
       "    </tr>\n",
       "    <tr>\n",
       "      <th>11</th>\n",
       "      <td>Apartamento</td>\n",
       "      <td>Grajaú</td>\n",
       "      <td>2</td>\n",
       "      <td>1</td>\n",
       "      <td>0</td>\n",
       "      <td>70</td>\n",
       "      <td>1500.0</td>\n",
       "      <td>642.0</td>\n",
       "      <td>74.0</td>\n",
       "    </tr>\n",
       "    <tr>\n",
       "      <th>12</th>\n",
       "      <td>Apartamento</td>\n",
       "      <td>Lins de Vasconcelos</td>\n",
       "      <td>3</td>\n",
       "      <td>1</td>\n",
       "      <td>1</td>\n",
       "      <td>90</td>\n",
       "      <td>1500.0</td>\n",
       "      <td>455.0</td>\n",
       "      <td>14.0</td>\n",
       "    </tr>\n",
       "    <tr>\n",
       "      <th>13</th>\n",
       "      <td>Apartamento</td>\n",
       "      <td>Copacabana</td>\n",
       "      <td>1</td>\n",
       "      <td>0</td>\n",
       "      <td>1</td>\n",
       "      <td>40</td>\n",
       "      <td>2000.0</td>\n",
       "      <td>561.0</td>\n",
       "      <td>50.0</td>\n",
       "    </tr>\n",
       "  </tbody>\n",
       "</table>\n",
       "</div>"
      ],
      "text/plain": [
       "           Tipo               Bairro  Quartos  Vagas  Suites  Area   Valor  \\\n",
       "3   Apartamento               Centro        1      0       0    15   800.0   \n",
       "6   Apartamento             Cachambi        2      0       0    50  1300.0   \n",
       "11  Apartamento               Grajaú        2      1       0    70  1500.0   \n",
       "12  Apartamento  Lins de Vasconcelos        3      1       1    90  1500.0   \n",
       "13  Apartamento           Copacabana        1      0       1    40  2000.0   \n",
       "\n",
       "    Condominio  IPTU  \n",
       "3        390.0  20.0  \n",
       "6        301.0  17.0  \n",
       "11       642.0  74.0  \n",
       "12       455.0  14.0  \n",
       "13       561.0  50.0  "
      ]
     },
     "execution_count": 346,
     "metadata": {},
     "output_type": "execute_result"
    }
   ],
   "source": [
    "# Realizando uma selação para pegar somente os Apartamentos\n",
    "selecao = df['Tipo'].isin(tipo_imovel)\n",
    "df = df[selecao]\n",
    "df.head()"
   ]
  },
  {
   "cell_type": "code",
   "execution_count": 347,
   "metadata": {},
   "outputs": [
    {
     "data": {
      "text/html": [
       "<div>\n",
       "<style scoped>\n",
       "    .dataframe tbody tr th:only-of-type {\n",
       "        vertical-align: middle;\n",
       "    }\n",
       "\n",
       "    .dataframe tbody tr th {\n",
       "        vertical-align: top;\n",
       "    }\n",
       "\n",
       "    .dataframe thead th {\n",
       "        text-align: right;\n",
       "    }\n",
       "</style>\n",
       "<table border=\"1\" class=\"dataframe\">\n",
       "  <thead>\n",
       "    <tr style=\"text-align: right;\">\n",
       "      <th></th>\n",
       "      <th>Tipo</th>\n",
       "      <th>Bairro</th>\n",
       "      <th>Quartos</th>\n",
       "      <th>Vagas</th>\n",
       "      <th>Suites</th>\n",
       "      <th>Area</th>\n",
       "      <th>Valor</th>\n",
       "      <th>Condominio</th>\n",
       "      <th>IPTU</th>\n",
       "    </tr>\n",
       "  </thead>\n",
       "  <tbody>\n",
       "    <tr>\n",
       "      <th>0</th>\n",
       "      <td>Apartamento</td>\n",
       "      <td>Centro</td>\n",
       "      <td>1</td>\n",
       "      <td>0</td>\n",
       "      <td>0</td>\n",
       "      <td>15</td>\n",
       "      <td>800.0</td>\n",
       "      <td>390.0</td>\n",
       "      <td>20.0</td>\n",
       "    </tr>\n",
       "    <tr>\n",
       "      <th>1</th>\n",
       "      <td>Apartamento</td>\n",
       "      <td>Cachambi</td>\n",
       "      <td>2</td>\n",
       "      <td>0</td>\n",
       "      <td>0</td>\n",
       "      <td>50</td>\n",
       "      <td>1300.0</td>\n",
       "      <td>301.0</td>\n",
       "      <td>17.0</td>\n",
       "    </tr>\n",
       "    <tr>\n",
       "      <th>2</th>\n",
       "      <td>Apartamento</td>\n",
       "      <td>Grajaú</td>\n",
       "      <td>2</td>\n",
       "      <td>1</td>\n",
       "      <td>0</td>\n",
       "      <td>70</td>\n",
       "      <td>1500.0</td>\n",
       "      <td>642.0</td>\n",
       "      <td>74.0</td>\n",
       "    </tr>\n",
       "    <tr>\n",
       "      <th>3</th>\n",
       "      <td>Apartamento</td>\n",
       "      <td>Lins de Vasconcelos</td>\n",
       "      <td>3</td>\n",
       "      <td>1</td>\n",
       "      <td>1</td>\n",
       "      <td>90</td>\n",
       "      <td>1500.0</td>\n",
       "      <td>455.0</td>\n",
       "      <td>14.0</td>\n",
       "    </tr>\n",
       "    <tr>\n",
       "      <th>4</th>\n",
       "      <td>Apartamento</td>\n",
       "      <td>Copacabana</td>\n",
       "      <td>1</td>\n",
       "      <td>0</td>\n",
       "      <td>1</td>\n",
       "      <td>40</td>\n",
       "      <td>2000.0</td>\n",
       "      <td>561.0</td>\n",
       "      <td>50.0</td>\n",
       "    </tr>\n",
       "    <tr>\n",
       "      <th>...</th>\n",
       "      <td>...</td>\n",
       "      <td>...</td>\n",
       "      <td>...</td>\n",
       "      <td>...</td>\n",
       "      <td>...</td>\n",
       "      <td>...</td>\n",
       "      <td>...</td>\n",
       "      <td>...</td>\n",
       "      <td>...</td>\n",
       "    </tr>\n",
       "    <tr>\n",
       "      <th>13039</th>\n",
       "      <td>Apartamento</td>\n",
       "      <td>Ipanema</td>\n",
       "      <td>3</td>\n",
       "      <td>1</td>\n",
       "      <td>2</td>\n",
       "      <td>150</td>\n",
       "      <td>15000.0</td>\n",
       "      <td>1400.0</td>\n",
       "      <td>600.0</td>\n",
       "    </tr>\n",
       "    <tr>\n",
       "      <th>13040</th>\n",
       "      <td>Apartamento</td>\n",
       "      <td>Tijuca</td>\n",
       "      <td>1</td>\n",
       "      <td>0</td>\n",
       "      <td>0</td>\n",
       "      <td>28</td>\n",
       "      <td>1000.0</td>\n",
       "      <td>360.0</td>\n",
       "      <td>25.0</td>\n",
       "    </tr>\n",
       "    <tr>\n",
       "      <th>13041</th>\n",
       "      <td>Apartamento</td>\n",
       "      <td>Méier</td>\n",
       "      <td>2</td>\n",
       "      <td>0</td>\n",
       "      <td>0</td>\n",
       "      <td>70</td>\n",
       "      <td>900.0</td>\n",
       "      <td>490.0</td>\n",
       "      <td>48.0</td>\n",
       "    </tr>\n",
       "    <tr>\n",
       "      <th>13042</th>\n",
       "      <td>Apartamento</td>\n",
       "      <td>Jacarepaguá</td>\n",
       "      <td>3</td>\n",
       "      <td>1</td>\n",
       "      <td>2</td>\n",
       "      <td>78</td>\n",
       "      <td>1800.0</td>\n",
       "      <td>800.0</td>\n",
       "      <td>40.0</td>\n",
       "    </tr>\n",
       "    <tr>\n",
       "      <th>13043</th>\n",
       "      <td>Apartamento</td>\n",
       "      <td>São Francisco Xavier</td>\n",
       "      <td>2</td>\n",
       "      <td>1</td>\n",
       "      <td>0</td>\n",
       "      <td>48</td>\n",
       "      <td>1400.0</td>\n",
       "      <td>509.0</td>\n",
       "      <td>37.0</td>\n",
       "    </tr>\n",
       "  </tbody>\n",
       "</table>\n",
       "<p>13044 rows × 9 columns</p>\n",
       "</div>"
      ],
      "text/plain": [
       "              Tipo                Bairro  Quartos  Vagas  Suites  Area  \\\n",
       "0      Apartamento                Centro        1      0       0    15   \n",
       "1      Apartamento              Cachambi        2      0       0    50   \n",
       "2      Apartamento                Grajaú        2      1       0    70   \n",
       "3      Apartamento   Lins de Vasconcelos        3      1       1    90   \n",
       "4      Apartamento            Copacabana        1      0       1    40   \n",
       "...            ...                   ...      ...    ...     ...   ...   \n",
       "13039  Apartamento               Ipanema        3      1       2   150   \n",
       "13040  Apartamento                Tijuca        1      0       0    28   \n",
       "13041  Apartamento                 Méier        2      0       0    70   \n",
       "13042  Apartamento           Jacarepaguá        3      1       2    78   \n",
       "13043  Apartamento  São Francisco Xavier        2      1       0    48   \n",
       "\n",
       "         Valor  Condominio   IPTU  \n",
       "0        800.0       390.0   20.0  \n",
       "1       1300.0       301.0   17.0  \n",
       "2       1500.0       642.0   74.0  \n",
       "3       1500.0       455.0   14.0  \n",
       "4       2000.0       561.0   50.0  \n",
       "...        ...         ...    ...  \n",
       "13039  15000.0      1400.0  600.0  \n",
       "13040   1000.0       360.0   25.0  \n",
       "13041    900.0       490.0   48.0  \n",
       "13042   1800.0       800.0   40.0  \n",
       "13043   1400.0       509.0   37.0  \n",
       "\n",
       "[13044 rows x 9 columns]"
      ]
     },
     "execution_count": 347,
     "metadata": {},
     "output_type": "execute_result"
    }
   ],
   "source": [
    "# Reconstruindo o index \n",
    "df.reset_index(drop=True, inplace=True)\n",
    "df"
   ]
  },
  {
   "cell_type": "code",
   "execution_count": 348,
   "metadata": {},
   "outputs": [],
   "source": [
    "# Realizando um filtro para pegarmos somente apartamentos que estão abaixo de 30K\n",
    "selecao = (df['Valor'] <= 15000) & (df['Condominio'] <= 5000) & (df['IPTU'] <= 15000)  \n",
    "df = df[selecao]"
   ]
  },
  {
   "cell_type": "code",
   "execution_count": 349,
   "metadata": {},
   "outputs": [
    {
     "data": {
      "text/plain": [
       "count    12431.00\n",
       "mean      3876.76\n",
       "std       3008.31\n",
       "min        400.00\n",
       "25%       1800.00\n",
       "50%       2800.00\n",
       "75%       5000.00\n",
       "max      15000.00\n",
       "Name: Valor, dtype: float64"
      ]
     },
     "execution_count": 349,
     "metadata": {},
     "output_type": "execute_result"
    }
   ],
   "source": [
    "# Analisando as estatisticas de Valor do nosso novo dataset\n",
    "df.Valor.describe().round(2)"
   ]
  },
  {
   "cell_type": "code",
   "execution_count": 351,
   "metadata": {},
   "outputs": [
    {
     "name": "stderr",
     "output_type": "stream",
     "text": [
      "<ipython-input-351-c36ff674a452>:2: SettingWithCopyWarning: \n",
      "A value is trying to be set on a copy of a slice from a DataFrame.\n",
      "Try using .loc[row_indexer,col_indexer] = value instead\n",
      "\n",
      "See the caveats in the documentation: https://pandas.pydata.org/pandas-docs/stable/user_guide/indexing.html#returning-a-view-versus-a-copy\n",
      "  df['Aluguel'] = (df['Valor']+df['Condominio']+df['IPTU'])\n"
     ]
    },
    {
     "data": {
      "text/html": [
       "<div>\n",
       "<style scoped>\n",
       "    .dataframe tbody tr th:only-of-type {\n",
       "        vertical-align: middle;\n",
       "    }\n",
       "\n",
       "    .dataframe tbody tr th {\n",
       "        vertical-align: top;\n",
       "    }\n",
       "\n",
       "    .dataframe thead th {\n",
       "        text-align: right;\n",
       "    }\n",
       "</style>\n",
       "<table border=\"1\" class=\"dataframe\">\n",
       "  <thead>\n",
       "    <tr style=\"text-align: right;\">\n",
       "      <th></th>\n",
       "      <th>Tipo</th>\n",
       "      <th>Bairro</th>\n",
       "      <th>Quartos</th>\n",
       "      <th>Vagas</th>\n",
       "      <th>Suites</th>\n",
       "      <th>Area</th>\n",
       "      <th>Valor</th>\n",
       "      <th>Condominio</th>\n",
       "      <th>IPTU</th>\n",
       "      <th>Aluguel</th>\n",
       "    </tr>\n",
       "  </thead>\n",
       "  <tbody>\n",
       "    <tr>\n",
       "      <th>0</th>\n",
       "      <td>Apartamento</td>\n",
       "      <td>Centro</td>\n",
       "      <td>1</td>\n",
       "      <td>0</td>\n",
       "      <td>0</td>\n",
       "      <td>15</td>\n",
       "      <td>800.0</td>\n",
       "      <td>390.0</td>\n",
       "      <td>20.0</td>\n",
       "      <td>1210.0</td>\n",
       "    </tr>\n",
       "    <tr>\n",
       "      <th>1</th>\n",
       "      <td>Apartamento</td>\n",
       "      <td>Cachambi</td>\n",
       "      <td>2</td>\n",
       "      <td>0</td>\n",
       "      <td>0</td>\n",
       "      <td>50</td>\n",
       "      <td>1300.0</td>\n",
       "      <td>301.0</td>\n",
       "      <td>17.0</td>\n",
       "      <td>1618.0</td>\n",
       "    </tr>\n",
       "    <tr>\n",
       "      <th>2</th>\n",
       "      <td>Apartamento</td>\n",
       "      <td>Grajaú</td>\n",
       "      <td>2</td>\n",
       "      <td>1</td>\n",
       "      <td>0</td>\n",
       "      <td>70</td>\n",
       "      <td>1500.0</td>\n",
       "      <td>642.0</td>\n",
       "      <td>74.0</td>\n",
       "      <td>2216.0</td>\n",
       "    </tr>\n",
       "    <tr>\n",
       "      <th>3</th>\n",
       "      <td>Apartamento</td>\n",
       "      <td>Lins de Vasconcelos</td>\n",
       "      <td>3</td>\n",
       "      <td>1</td>\n",
       "      <td>1</td>\n",
       "      <td>90</td>\n",
       "      <td>1500.0</td>\n",
       "      <td>455.0</td>\n",
       "      <td>14.0</td>\n",
       "      <td>1969.0</td>\n",
       "    </tr>\n",
       "    <tr>\n",
       "      <th>4</th>\n",
       "      <td>Apartamento</td>\n",
       "      <td>Copacabana</td>\n",
       "      <td>1</td>\n",
       "      <td>0</td>\n",
       "      <td>1</td>\n",
       "      <td>40</td>\n",
       "      <td>2000.0</td>\n",
       "      <td>561.0</td>\n",
       "      <td>50.0</td>\n",
       "      <td>2611.0</td>\n",
       "    </tr>\n",
       "  </tbody>\n",
       "</table>\n",
       "</div>"
      ],
      "text/plain": [
       "          Tipo               Bairro  Quartos  Vagas  Suites  Area   Valor  \\\n",
       "0  Apartamento               Centro        1      0       0    15   800.0   \n",
       "1  Apartamento             Cachambi        2      0       0    50  1300.0   \n",
       "2  Apartamento               Grajaú        2      1       0    70  1500.0   \n",
       "3  Apartamento  Lins de Vasconcelos        3      1       1    90  1500.0   \n",
       "4  Apartamento           Copacabana        1      0       1    40  2000.0   \n",
       "\n",
       "   Condominio  IPTU  Aluguel  \n",
       "0       390.0  20.0   1210.0  \n",
       "1       301.0  17.0   1618.0  \n",
       "2       642.0  74.0   2216.0  \n",
       "3       455.0  14.0   1969.0  \n",
       "4       561.0  50.0   2611.0  "
      ]
     },
     "execution_count": 351,
     "metadata": {},
     "output_type": "execute_result"
    }
   ],
   "source": [
    "# Criando a coluna Aluguel em nosso dataframe\n",
    "df['Aluguel'] = (df['Valor']+df['Condominio']+df['IPTU'])\n",
    "df.head()"
   ]
  },
  {
   "cell_type": "code",
   "execution_count": 352,
   "metadata": {},
   "outputs": [
    {
     "data": {
      "text/plain": [
       "count    12431.00\n",
       "mean      5606.92\n",
       "std       4236.50\n",
       "min        571.00\n",
       "25%       2652.00\n",
       "50%       4194.00\n",
       "75%       7180.50\n",
       "max      33799.00\n",
       "Name: Aluguel, dtype: float64"
      ]
     },
     "execution_count": 352,
     "metadata": {},
     "output_type": "execute_result"
    }
   ],
   "source": [
    "# Analisando as estatisticas de Aluguel do nosso novo dataset\n",
    "df.Aluguel.describe().round(2)"
   ]
  },
  {
   "cell_type": "code",
   "execution_count": 353,
   "metadata": {},
   "outputs": [
    {
     "data": {
      "text/plain": [
       "Text(0, 0.5, 'Valores R$')"
      ]
     },
     "execution_count": 353,
     "metadata": {},
     "output_type": "execute_result"
    },
    {
     "data": {
      "image/png": "[encoded data removed]",
      "text/plain": [
       "<Figure size 720x360 with 1 Axes>"
      ]
     },
     "metadata": {
      "needs_background": "light"
     },
     "output_type": "display_data"
    }
   ],
   "source": [
    "# Apresentação do boxplot dos alugueis\n",
    "plt.figure(figsize=(10,5))\n",
    "sns.boxplot(data=df, y='Aluguel')\n",
    "plt.title('Boxplot - Valores do Aluguel - RJ')\n",
    "plt.ylabel('Valores R$')"
   ]
  },
  {
   "cell_type": "code",
   "execution_count": 354,
   "metadata": {},
   "outputs": [
    {
     "name": "stdout",
     "output_type": "stream",
     "text": [
      "O bairro mais carro é o Água Santa com o valor de R$ 33799.0\n"
     ]
    }
   ],
   "source": [
    "# Verificando o bairro mais caro\n",
    "bairro_mais_caro = df[['Bairro', 'Aluguel']].max()\n",
    "bairro_mais_caro\n",
    "print(f\"O bairro mais carro é o {df['Bairro'].max()} com o valor de R$ {df['Aluguel'].max()}\")"
   ]
  },
  {
   "cell_type": "code",
   "execution_count": 355,
   "metadata": {},
   "outputs": [
    {
     "name": "stdout",
     "output_type": "stream",
     "text": [
      "O bairro mais barato é o Abolição com o valor de R$ 571.0\n"
     ]
    }
   ],
   "source": [
    "# Verificando o bairro mais barato\n",
    "bairro_mais_barato = df[['Bairro','Aluguel']].min()\n",
    "bairro_mais_barato\n",
    "print(f\"O bairro mais barato é o {df['Bairro'].min()} com o valor de R$ {df['Aluguel'].min()}\")"
   ]
  },
  {
   "cell_type": "code",
   "execution_count": 356,
   "metadata": {},
   "outputs": [
    {
     "data": {
      "text/plain": [
       "Aluguel    5606.917223\n",
       "dtype: float64"
      ]
     },
     "execution_count": 356,
     "metadata": {},
     "output_type": "execute_result"
    }
   ],
   "source": [
    "# Verificando a média do aluguel dos bairros analisados\n",
    "media_aluguel_rj = df[['Bairro','Aluguel']].mean()\n",
    "media_aluguel_rj"
   ]
  },
  {
   "cell_type": "code",
   "execution_count": 379,
   "metadata": {},
   "outputs": [
    {
     "data": {
      "text/plain": [
       "Text(0.5, 1.0, 'Histograma - Aluguel')"
      ]
     },
     "execution_count": 379,
     "metadata": {},
     "output_type": "execute_result"
    },
    {
     "data": {
      "image/png": "[encoded data removed]",
      "text/plain": [
       "<Figure size 720x360 with 1 Axes>"
      ]
     },
     "metadata": {
      "needs_background": "light"
     },
     "output_type": "display_data"
    }
   ],
   "source": [
    "# Apresentação do histograma do Aluguel\n",
    "plt.figure(figsize=(10,5))\n",
    "sns.distplot(df['Aluguel'])\n",
    "plt.title(\"Histograma - Aluguel\", fontsize=16)"
   ]
  },
  {
   "cell_type": "code",
   "execution_count": 358,
   "metadata": {},
   "outputs": [
    {
     "name": "stdout",
     "output_type": "stream",
     "text": [
      "O condominio mais caro é o de Água Santa com o valor de R$ 5000.0\n"
     ]
    }
   ],
   "source": [
    "# Verificando o condominio mais caro\n",
    "condominio_mais_caro = df[['Bairro','Condominio']].max()\n",
    "condominio_mais_caro\n",
    "print(f\"O condominio mais caro é o de {df['Bairro'].max()} com o valor de R$ {df['Condominio'].max()}\")"
   ]
  },
  {
   "cell_type": "code",
   "execution_count": 359,
   "metadata": {},
   "outputs": [
    {
     "name": "stdout",
     "output_type": "stream",
     "text": [
      "O condominio mais barato é o de Abolição com o valor de R$ 1.0\n"
     ]
    }
   ],
   "source": [
    "# Verificando o condominio mais barato\n",
    "condominio_mais_barato = df[['Bairro','Condominio']].min()\n",
    "condominio_mais_barato\n",
    "print(f\"O condominio mais barato é o de {df['Bairro'].min()} com o valor de R$ {df['Condominio'].min()}\")"
   ]
  },
  {
   "cell_type": "markdown",
   "metadata": {},
   "source": [
    "#Realizando uma análise de se os apartamentos que tenham menos de 40m² possuem mais de 1 quarto"
   ]
  },
  {
   "cell_type": "code",
   "execution_count": 360,
   "metadata": {},
   "outputs": [
    {
     "name": "stdout",
     "output_type": "stream",
     "text": [
      "Apartamentos com area inferior a 40m² em média possui somente 1 quarto.\n"
     ]
    }
   ],
   "source": [
    "selecao = (df['Area'] <= 40)\n",
    "dados_apt = df[selecao]\n",
    "dados_apt.describe()\n",
    "print(\"Apartamentos com area inferior a 40m² em média possui somente 1 quarto.\")"
   ]
  },
  {
   "cell_type": "markdown",
   "metadata": {},
   "source": [
    "#Realizando uma análise de que se os apartamentos que contenham suites são mais caros dos que os que não tem."
   ]
  },
  {
   "cell_type": "code",
   "execution_count": 369,
   "metadata": {},
   "outputs": [
    {
     "data": {
      "text/plain": [
       "1    5821\n",
       "0    4730\n",
       "2    1140\n",
       "3     464\n",
       "4     260\n",
       "5      16\n",
       "Name: Suites, dtype: int64"
      ]
     },
     "execution_count": 369,
     "metadata": {},
     "output_type": "execute_result"
    }
   ],
   "source": [
    "# Verificando a quantidade de suites por apartamento\n",
    "df.Suites.value_counts()"
   ]
  },
  {
   "cell_type": "code",
   "execution_count": 377,
   "metadata": {},
   "outputs": [
    {
     "data": {
      "text/plain": [
       "Text(0, 0.5, 'Valor do Aluguel R$')"
      ]
     },
     "execution_count": 377,
     "metadata": {},
     "output_type": "execute_result"
    },
    {
     "data": {
      "image/png": "[encoded data removed]",
      "text/plain": [
       "<Figure size 864x432 with 1 Axes>"
      ]
     },
     "metadata": {
      "needs_background": "light"
     },
     "output_type": "display_data"
    }
   ],
   "source": [
    "plt.figure(figsize=(12,6))\n",
    "sns.barplot(x='Suites', y='Aluguel', data=df)\n",
    "plt.title(\"Gráfico de Nº de suites x Valor do Aluguel\", fontsize=16)\n",
    "plt.xlabel(\"Nº de suites\", fontsize=14)\n",
    "plt.ylabel(\"Valor do Aluguel R$\", fontsize=14)"
   ]
  }
 ],
 "metadata": {
  "kernelspec": {
   "display_name": "Python 3",
   "language": "python",
   "name": "python3"
  },
  "language_info": {
   "codemirror_mode": {
    "name": "ipython",
    "version": 3
   },
   "file_extension": ".py",
   "mimetype": "text/x-python",
   "name": "python",
   "nbconvert_exporter": "python",
   "pygments_lexer": "ipython3",
   "version": "3.8.3"
  }
 },
 "nbformat": 4,
 "nbformat_minor": 4
}
